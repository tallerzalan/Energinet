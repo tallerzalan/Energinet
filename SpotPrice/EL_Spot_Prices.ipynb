{
  "cells": [
    {
      "cell_type": "markdown",
      "metadata": {
        "id": "view-in-github",
        "colab_type": "text"
      },
      "source": [
        "<a href=\"https://colab.research.google.com/github/tallerzalan/Energinet/blob/main/SpotPrice/EL_Spot_Prices.ipynb\" target=\"_parent\"><img src=\"https://colab.research.google.com/assets/colab-badge.svg\" alt=\"Open In Colab\"/></a>"
      ]
    },
    {
      "cell_type": "code",
      "execution_count": 1,
      "metadata": {
        "colab": {
          "base_uri": "https://localhost:8080/",
          "height": 462
        },
        "id": "XOwb6Ok4ViqK",
        "outputId": "f558b50d-c566-4b8f-9291-44acca8bb80b"
      },
      "outputs": [
        {
          "output_type": "stream",
          "name": "stdout",
          "text": [
            "Looking in indexes: https://pypi.org/simple, https://us-python.pkg.dev/colab-wheels/public/simple/\n",
            "Collecting pyspark\n",
            "  Downloading pyspark-3.3.0.tar.gz (281.3 MB)\n",
            "\u001b[K     |████████████████████████████████| 281.3 MB 46 kB/s \n",
            "\u001b[?25hCollecting py4j==0.10.9.5\n",
            "  Downloading py4j-0.10.9.5-py2.py3-none-any.whl (199 kB)\n",
            "\u001b[K     |████████████████████████████████| 199 kB 44.3 MB/s \n",
            "\u001b[?25hBuilding wheels for collected packages: pyspark\n",
            "  Building wheel for pyspark (setup.py) ... \u001b[?25l\u001b[?25hdone\n",
            "  Created wheel for pyspark: filename=pyspark-3.3.0-py2.py3-none-any.whl size=281764026 sha256=e9a46997c2d9cf0d98fb9ebe0d60ba3afc954edecb67ba9f91153eff4e7bc6fc\n",
            "  Stored in directory: /root/.cache/pip/wheels/7a/8e/1b/f73a52650d2e5f337708d9f6a1750d451a7349a867f928b885\n",
            "Successfully built pyspark\n",
            "Installing collected packages: py4j, pyspark\n",
            "Successfully installed py4j-0.10.9.5 pyspark-3.3.0\n"
          ]
        },
        {
          "output_type": "execute_result",
          "data": {
            "text/plain": [
              "<pyspark.sql.session.SparkSession at 0x7fbc053e6050>"
            ],
            "text/html": [
              "\n",
              "            <div>\n",
              "                <p><b>SparkSession - in-memory</b></p>\n",
              "                \n",
              "        <div>\n",
              "            <p><b>SparkContext</b></p>\n",
              "\n",
              "            <p><a href=\"http://5d009df6f765:4040\">Spark UI</a></p>\n",
              "\n",
              "            <dl>\n",
              "              <dt>Version</dt>\n",
              "                <dd><code>v3.3.0</code></dd>\n",
              "              <dt>Master</dt>\n",
              "                <dd><code>local[*]</code></dd>\n",
              "              <dt>AppName</dt>\n",
              "                <dd><code>pyspark-shell</code></dd>\n",
              "            </dl>\n",
              "        </div>\n",
              "        \n",
              "            </div>\n",
              "        "
            ]
          },
          "metadata": {},
          "execution_count": 1
        }
      ],
      "source": [
        "# Install pyspark\n",
        "!pip install pyspark\n",
        "\n",
        "# Import SparkSession\n",
        "from pyspark.sql import SparkSession\n",
        "\n",
        "# Create a Spark Session\n",
        "spark = SparkSession.builder.master(\"local[*]\").getOrCreate()\n",
        "\n",
        "# Check Spark Session Information\n",
        "spark"
      ]
    },
    {
      "cell_type": "code",
      "execution_count": 2,
      "metadata": {
        "id": "17Sp_3q1ayMz"
      },
      "outputs": [],
      "source": [
        "import subprocess\n",
        "import os\n",
        "import pandas as pd\n",
        "\n",
        "import pyspark.sql.functions as F\n",
        "import pyspark.sql.types as T\n",
        "\n",
        "from pyspark.sql.functions import col, to_timestamp"
      ]
    },
    {
      "cell_type": "code",
      "execution_count": 3,
      "metadata": {
        "id": "w5HmPGy4ayl5"
      },
      "outputs": [],
      "source": [
        "def add_date_columns(df, timestamp_column = 'timestamp'):\n",
        "    \"\"\"\n",
        "    Create a year, month and day column from the given timestamp column.\n",
        "    Month and day column values will be zero-padded, i.e.: '01', '02', '03' etc.\n",
        "    \"\"\"\n",
        "    # Remove columns created by spark data loading process, i.e.: 'day', 'month', 'year'\n",
        "    df = df.drop('day', 'month', 'year')\n",
        "    \n",
        "    df = df.withColumn('year', F.year(timestamp_column))\\\n",
        "           .withColumn('month', F.date_format(timestamp_column, 'MM'))\\\n",
        "           .withColumn('day', F.date_format(timestamp_column, 'dd'))\n",
        "    \n",
        "    return df"
      ]
    },
    {
      "cell_type": "code",
      "execution_count": 4,
      "metadata": {
        "id": "QLUOzQCFa-Na"
      },
      "outputs": [],
      "source": [
        "# Municipality numbers in DK1\n",
        "dk1_list = ['751', '851', '461', '630', '561', '730', '791', '740', '621', '615', '657', '540', '860', '746', '813', '661', '479', '580', '760', '510', '430', '607', '573', '710', '766', '779', '706', '787', '575', '846',\n",
        "            '756', '420', '410', '849', '550', '707', '820', '810', '450', '840', '480', '530', '440', '727', '671', '773', '665', '482', '492', '741', '563', '825']\n",
        "\n",
        "# Municipality numbers in DK2\n",
        "dk2_list = ['101', '147', '265', '370', '330', '157', '316', '159', '217', '259', '376', '230', '173', '167', '169', '219', '253', '151', '326', '250', '390', '240', '185', '175', '190', '210', '270', '360', '400', '320',\n",
        "            '153', '329', '306', '260', '340', '163', '350', '165', '201', '223', '269', '183', '336', '161', '187', '155']"
      ]
    },
    {
      "cell_type": "code",
      "execution_count": 5,
      "metadata": {
        "colab": {
          "base_uri": "https://localhost:8080/"
        },
        "id": "qLj_BhnqbBCr",
        "outputId": "3a52723c-4d26-4538-d0f6-84ae4fc24bc8"
      },
      "outputs": [
        {
          "output_type": "stream",
          "name": "stdout",
          "text": [
            "+-----------+----+-----+---+--------------------+--------+\n",
            "|value      |year|month|day|timestamp           |category|\n",
            "+-----------+----+-----+---+--------------------+--------+\n",
            "|478.950012 |2022|09   |30 |2022-09-30T22:00:00Z|total   |\n",
            "|472.850006 |2022|09   |30 |2022-09-30T23:00:00Z|total   |\n",
            "|371.799988 |2022|10   |01 |2022-10-01T00:00:00Z|total   |\n",
            "|159.720001 |2022|10   |01 |2022-10-01T01:00:00Z|total   |\n",
            "|125.739998 |2022|10   |01 |2022-10-01T02:00:00Z|total   |\n",
            "|111.760002 |2022|10   |01 |2022-10-01T03:00:00Z|total   |\n",
            "|111.690002 |2022|10   |01 |2022-10-01T04:00:00Z|total   |\n",
            "|177.270004 |2022|10   |01 |2022-10-01T05:00:00Z|total   |\n",
            "|334.769989 |2022|10   |01 |2022-10-01T06:00:00Z|total   |\n",
            "|543.200012 |2022|10   |01 |2022-10-01T07:00:00Z|total   |\n",
            "|816.840027 |2022|10   |01 |2022-10-01T08:00:00Z|total   |\n",
            "|793.940002 |2022|10   |01 |2022-10-01T09:00:00Z|total   |\n",
            "|669.23999  |2022|10   |01 |2022-10-01T10:00:00Z|total   |\n",
            "|550.559998 |2022|10   |01 |2022-10-01T11:00:00Z|total   |\n",
            "|491.959991 |2022|10   |01 |2022-10-01T12:00:00Z|total   |\n",
            "|497.470001 |2022|10   |01 |2022-10-01T13:00:00Z|total   |\n",
            "|519.179993 |2022|10   |01 |2022-10-01T14:00:00Z|total   |\n",
            "|1024.670044|2022|10   |01 |2022-10-01T15:00:00Z|total   |\n",
            "|1261.660034|2022|10   |01 |2022-10-01T16:00:00Z|total   |\n",
            "|1455.73999 |2022|10   |01 |2022-10-01T17:00:00Z|total   |\n",
            "|1340.47998 |2022|10   |01 |2022-10-01T18:00:00Z|total   |\n",
            "|1077.469971|2022|10   |01 |2022-10-01T19:00:00Z|total   |\n",
            "|820.109985 |2022|10   |01 |2022-10-01T20:00:00Z|total   |\n",
            "|575.909973 |2022|10   |01 |2022-10-01T21:00:00Z|total   |\n",
            "+-----------+----+-----+---+--------------------+--------+\n",
            "\n",
            "+-----------+----+-----+---+--------------------+--------+\n",
            "|value      |year|month|day|timestamp           |category|\n",
            "+-----------+----+-----+---+--------------------+--------+\n",
            "|478.950012 |2022|09   |30 |2022-09-30T22:00:00Z|total   |\n",
            "|472.850006 |2022|09   |30 |2022-09-30T23:00:00Z|total   |\n",
            "|371.799988 |2022|10   |01 |2022-10-01T00:00:00Z|total   |\n",
            "|159.720001 |2022|10   |01 |2022-10-01T01:00:00Z|total   |\n",
            "|125.739998 |2022|10   |01 |2022-10-01T02:00:00Z|total   |\n",
            "|111.760002 |2022|10   |01 |2022-10-01T03:00:00Z|total   |\n",
            "|111.690002 |2022|10   |01 |2022-10-01T04:00:00Z|total   |\n",
            "|177.270004 |2022|10   |01 |2022-10-01T05:00:00Z|total   |\n",
            "|334.769989 |2022|10   |01 |2022-10-01T06:00:00Z|total   |\n",
            "|543.200012 |2022|10   |01 |2022-10-01T07:00:00Z|total   |\n",
            "|816.840027 |2022|10   |01 |2022-10-01T08:00:00Z|total   |\n",
            "|793.940002 |2022|10   |01 |2022-10-01T09:00:00Z|total   |\n",
            "|669.23999  |2022|10   |01 |2022-10-01T10:00:00Z|total   |\n",
            "|550.559998 |2022|10   |01 |2022-10-01T11:00:00Z|total   |\n",
            "|491.959991 |2022|10   |01 |2022-10-01T12:00:00Z|total   |\n",
            "|497.470001 |2022|10   |01 |2022-10-01T13:00:00Z|total   |\n",
            "|519.179993 |2022|10   |01 |2022-10-01T14:00:00Z|total   |\n",
            "|1024.670044|2022|10   |01 |2022-10-01T15:00:00Z|total   |\n",
            "|1259.060059|2022|10   |01 |2022-10-01T16:00:00Z|total   |\n",
            "|1455.73999 |2022|10   |01 |2022-10-01T17:00:00Z|total   |\n",
            "|1340.47998 |2022|10   |01 |2022-10-01T18:00:00Z|total   |\n",
            "|1077.469971|2022|10   |01 |2022-10-01T19:00:00Z|total   |\n",
            "|820.109985 |2022|10   |01 |2022-10-01T20:00:00Z|total   |\n",
            "|575.909973 |2022|10   |01 |2022-10-01T21:00:00Z|total   |\n",
            "+-----------+----+-----+---+--------------------+--------+\n",
            "\n"
          ]
        }
      ],
      "source": [
        "# Loading the EL Spot Prices data\n",
        "df = spark.read.json('/content/drive/MyDrive/Colab Notebooks/Energinet/Spot Price/Elspotprices.json')\\\n",
        "               .dropDuplicates()\\\n",
        "               .drop('HourDK', 'SpotPriceEUR')\n",
        "\n",
        "# Cleaning and manipulating the EL Spot Prices data\n",
        "df = df\\\n",
        "     .withColumn('converted', F.to_timestamp('HourUTC'))\\\n",
        "     .drop('HourUTC')\n",
        "\n",
        "dk_1 = df\\\n",
        "       .filter(col('PriceArea') == 'DK1')\\\n",
        "       .groupBy(F.date_trunc('hour', F.col('converted')).alias('date'))\\\n",
        "       .agg(F.sum('SpotPriceDKK').alias('value'))\n",
        "\n",
        "dk_2 = df\\\n",
        "       .filter(col('PriceArea') == 'DK2')\\\n",
        "       .groupBy(F.date_trunc('hour', F.col('converted')).alias('date'))\\\n",
        "       .agg(F.sum('SpotPriceDKK').alias('value'))\n",
        "\n",
        "dk_1_clean = add_date_columns(dk_1, timestamp_column = 'date')\\\n",
        "             .withColumn('timestamp', F.date_format('date', \"yyyy-MM-dd'T'HH:mm:ss'Z'\"))\\\n",
        "             .withColumn('category', F.lit('total'))\\\n",
        "             .drop('date')\n",
        "\n",
        "dk_2_clean = add_date_columns(dk_2, timestamp_column = 'date')\\\n",
        "             .withColumn('timestamp', F.date_format('date', \"yyyy-MM-dd'T'HH:mm:ss'Z'\"))\\\n",
        "             .withColumn('category', F.lit('total'))\\\n",
        "             .drop('date')\n",
        "\n",
        "dk_1_clean.sort('timestamp').show(25, truncate = False)\n",
        "dk_2_clean.sort('timestamp').show(25, truncate = False)"
      ]
    },
    {
      "cell_type": "code",
      "execution_count": 5,
      "metadata": {
        "id": "VRPoFd4tbQG6"
      },
      "outputs": [],
      "source": []
    }
  ],
  "metadata": {
    "colab": {
      "provenance": [],
      "mount_file_id": "1eJX-mE1Akcj80jl8DVYDeP_K3EFb0Xja",
      "authorship_tag": "ABX9TyNM77jvacSFC+edrDbJziXC",
      "include_colab_link": true
    },
    "kernelspec": {
      "display_name": "Python 3",
      "name": "python3"
    },
    "language_info": {
      "name": "python"
    }
  },
  "nbformat": 4,
  "nbformat_minor": 0
}